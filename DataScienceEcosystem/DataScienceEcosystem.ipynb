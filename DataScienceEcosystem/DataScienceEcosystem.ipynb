{
 "cells": [
  {
   "metadata": {},
   "cell_type": "markdown",
   "source": "# Data Science Tools and Ecosystem",
   "id": "9e6788afb9f1fcbf"
  },
  {
   "metadata": {},
   "cell_type": "markdown",
   "source": "In this notebook, Data Science Tools and Ecosystem are summarized.",
   "id": "521f7634468490c7"
  },
  {
   "metadata": {},
   "cell_type": "markdown",
   "source": "Some of the popular languages that Data Scientists use are",
   "id": "26e053a5a61dd0a0"
  },
  {
   "metadata": {
    "ExecuteTime": {
     "end_time": "2024-06-16T20:23:02.914026Z",
     "start_time": "2024-06-16T20:23:02.903476Z"
    }
   },
   "cell_type": "code",
   "source": "orderedlist = ['Python', 'R', 'Java', 'C++', 'Javascript']",
   "id": "eae6b2c01b4862bf",
   "outputs": [],
   "execution_count": 2
  },
  {
   "metadata": {},
   "cell_type": "markdown",
   "source": "Some of the commonly used libraries used by Data Scientists include:",
   "id": "9a355da13e772a3"
  },
  {
   "metadata": {
    "ExecuteTime": {
     "end_time": "2024-06-16T20:26:16.296957Z",
     "start_time": "2024-06-16T20:26:16.288166Z"
    }
   },
   "cell_type": "code",
   "source": "orderedlist = ['Panda','Numpy','pdf2image']",
   "id": "c81afbb6891fd397",
   "outputs": [],
   "execution_count": 3
  },
  {
   "metadata": {},
   "cell_type": "markdown",
   "source": [
    "| Data Science Tools    |\n",
    "|-----------------------|\n",
    "| Jupyter Notebook      |\n",
    "| RStudio               |\n",
    "| VS Code with Python   |\n"
   ],
   "id": "5e93f1ffc0273f48"
  },
  {
   "metadata": {},
   "cell_type": "markdown",
   "source": "### Below are a few examples of evaluating arithmetic expressions in Python.\n",
   "id": "be8fae06277194b"
  },
  {
   "metadata": {
    "ExecuteTime": {
     "end_time": "2024-06-16T20:30:45.857239Z",
     "start_time": "2024-06-16T20:30:45.840328Z"
    }
   },
   "cell_type": "code",
   "source": [
    "# This is a simple arithmetic expression to multiply then add integers\n",
    "result = (3 * 4) + 5\n",
    "result"
   ],
   "id": "2b616cd7b45a529",
   "outputs": [
    {
     "data": {
      "text/plain": [
       "17"
      ]
     },
     "execution_count": 4,
     "metadata": {},
     "output_type": "execute_result"
    }
   ],
   "execution_count": 4
  },
  {
   "metadata": {
    "ExecuteTime": {
     "end_time": "2024-06-16T20:34:15.309552Z",
     "start_time": "2024-06-16T20:34:15.300321Z"
    }
   },
   "cell_type": "code",
   "source": [
    "# This will convert 200 minutes to hours by dividing by 60\n",
    "minutes = 200\n",
    "hours = minutes / 60\n",
    "hours"
   ],
   "id": "7e3880d1f99e06bf",
   "outputs": [
    {
     "data": {
      "text/plain": [
       "3.3333333333333335"
      ]
     },
     "execution_count": 10,
     "metadata": {},
     "output_type": "execute_result"
    }
   ],
   "execution_count": 10
  },
  {
   "metadata": {},
   "cell_type": "markdown",
   "source": [
    "**Objectives:**\n",
    "\n",
    "- List popular languages for Data Science.\n",
    "- Introduce key libraries used in Data Science.\n",
    "- Explain basic arithmetic operations in Python.\n",
    "- Convert units of measurement in Python.\n"
   ],
   "id": "ba1df356adb5c91b"
  },
  {
   "metadata": {},
   "cell_type": "markdown",
   "source": [
    "## Author\n",
    "Dhruvesh Patel\n"
   ],
   "id": "39677003522aa51c"
  },
  {
   "metadata": {},
   "cell_type": "code",
   "outputs": [],
   "execution_count": null,
   "source": "",
   "id": "50b4aa68fda09a99"
  }
 ],
 "metadata": {
  "kernelspec": {
   "display_name": "Python 3",
   "language": "python",
   "name": "python3"
  },
  "language_info": {
   "codemirror_mode": {
    "name": "ipython",
    "version": 2
   },
   "file_extension": ".py",
   "mimetype": "text/x-python",
   "name": "python",
   "nbconvert_exporter": "python",
   "pygments_lexer": "ipython2",
   "version": "2.7.6"
  }
 },
 "nbformat": 4,
 "nbformat_minor": 5
}
